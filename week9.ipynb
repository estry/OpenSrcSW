{
 "cells": [
  {
   "cell_type": "code",
   "execution_count": 5,
   "metadata": {},
   "outputs": [
    {
     "name": "stdout",
     "output_type": "stream",
     "text": [
      "enter x: 1\n",
      "10\n"
     ]
    }
   ],
   "source": [
    "# 실습 #1: 수치계산\n",
    "\n",
    "def fun(x):\n",
    "    return 3*(x**2) + 5*x + 2\n",
    "\n",
    "x = input(\"enter x: \")\n",
    "x = int(x)\n",
    "print(fun(x))"
   ]
  },
  {
   "cell_type": "code",
   "execution_count": 9,
   "metadata": {},
   "outputs": [
    {
     "name": "stdout",
     "output_type": "stream",
     "text": [
      "enter x: 1\n",
      "round: 6.28 area: 3.14\n"
     ]
    }
   ],
   "source": [
    "# 실습 #1: 수치계산\n",
    "\n",
    "def fun1(r):\n",
    "    pi = 3.14\n",
    "    return 2*pi*r, pi*(r**2)\n",
    "\n",
    "x = input(\"enter x: \")\n",
    "x = int(x)\n",
    "circumference, area = fun1(x)\n",
    "\n",
    "print(\"round: {0:.2f}, area: {1:.2f}\".format(circumference, area))"
   ]
  },
  {
   "cell_type": "code",
   "execution_count": null,
   "metadata": {},
   "outputs": [],
   "source": []
  }
 ],
 "metadata": {
  "kernelspec": {
   "display_name": "Python 3",
   "language": "python",
   "name": "python3"
  },
  "language_info": {
   "codemirror_mode": {
    "name": "ipython",
    "version": 3
   },
   "file_extension": ".py",
   "mimetype": "text/x-python",
   "name": "python",
   "nbconvert_exporter": "python",
   "pygments_lexer": "ipython3",
   "version": "3.8.5"
  }
 },
 "nbformat": 4,
 "nbformat_minor": 4
}
