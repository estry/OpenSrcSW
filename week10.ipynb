{
 "cells": [
  {
   "cell_type": "code",
   "execution_count": 4,
   "metadata": {},
   "outputs": [
    {
     "name": "stdout",
     "output_type": "stream",
     "text": [
      "Numbers?10 456 87 78\n",
      "Max = 456\n"
     ]
    }
   ],
   "source": [
    "# 실습 #2\n",
    "str = input('Numbers?')\n",
    "list_a = str.split(\" \")\n",
    "\n",
    "list_a = [int (i) for i in list_a]\n",
    "\n",
    "num =  max(list_a)\n",
    "print(\"Max = {0:d}\".format(num))"
   ]
  },
  {
   "cell_type": "code",
   "execution_count": 30,
   "metadata": {},
   "outputs": [
    {
     "name": "stdout",
     "output_type": "stream",
     "text": [
      "문자열을 입력하세요 : abc def\n",
      "efg bcd\n",
      "abc def\n"
     ]
    }
   ],
   "source": [
    "#실습 #3\n",
    "# 암호화\n",
    "# 공백으로 분리하고 역순으로 배치, 아스키 코드를 1씩증가\n",
    "# 복호화 \n",
    "# 아스키 코드를 1씩 감소하고 공백으로 분리하여 역순으로 배치\n",
    "def encoding(str):\n",
    "    encode = str.split(\" \")\n",
    "    encode.reverse()\n",
    "    result = ''\n",
    "    for token in encode:\n",
    "        for ch in token:\n",
    "            ch = chr(ord(ch) + 1)\n",
    "            result = result + ch\n",
    "        result =  result + ' '\n",
    "    result = result[:-1]\n",
    "    return result\n",
    "\n",
    "def decoding(str):\n",
    "    decode = str.split(\" \")\n",
    "    result = ''\n",
    "    for token in decode:\n",
    "        for ch in token:\n",
    "            ch = chr(ord(ch) - 1)\n",
    "            result = result + ch\n",
    "        result = result + ' '\n",
    "    \n",
    "    result = result[:-1]\n",
    "    result = result.split(' ')\n",
    "    result.reverse()\n",
    "    r = ''\n",
    "    for token in result:\n",
    "        r = r + token + ' '\n",
    "    r = r[:-1]\n",
    "    return r\n",
    "    \n",
    "string = input(\"문자열을 입력하세요 : \")\n",
    "result = encoding(string)\n",
    "print(result)\n",
    "result = decoding(result)\n",
    "print(result)"
   ]
  },
  {
   "cell_type": "code",
   "execution_count": 34,
   "metadata": {},
   "outputs": [
    {
     "name": "stdout",
     "output_type": "stream",
     "text": [
      "name: a\n",
      "tel: 123\n",
      "name: b\n",
      "tel: 234\n",
      "name: c\n",
      "tel: 345\n",
      "name: d\n",
      "tel: 456\n",
      "name: e\n",
      "tel: 594\n",
      "name: f\n",
      "tel: 690\n",
      "name: g\n",
      "tel: 434\n",
      "name: h\n",
      "tel: 694\n",
      "name: i\n",
      "tel: 222\n",
      "name: j\n",
      "tel: 333\n",
      "123\n",
      "d\n"
     ]
    }
   ],
   "source": [
    "# 실습 #4\n",
    "# 10명의 이름과 전화번호를 입력받아 전화번호 dictionary를 만들고, 이름과 전화번호로 검색하는 프로그램을 작성\n",
    "def init():\n",
    "    tel_book = dict()\n",
    "    for i in range(0, 10):\n",
    "        name = input(\"name: \")\n",
    "        tel = input(\"tel: \")\n",
    "        tel_book[name] = tel\n",
    "    return tel_book\n",
    "\n",
    "def search_by_name(tel_book, name):\n",
    "    return tel_book[name]\n",
    "\n",
    "def search_by_tel(tel_book, tel):\n",
    "    for k, v in tel_book.items():\n",
    "        if v == tel:\n",
    "            return k\n",
    "\n",
    "tel_book = init()\n",
    "\n",
    "find_name = search_by_name(tel_book,'a')\n",
    "print(find_name)\n",
    "find_tel = search_by_tel(tel_book, '456')\n",
    "print(find_tel)"
   ]
  },
  {
   "cell_type": "code",
   "execution_count": null,
   "metadata": {},
   "outputs": [],
   "source": []
  }
 ],
 "metadata": {
  "kernelspec": {
   "display_name": "Python 3",
   "language": "python",
   "name": "python3"
  },
  "language_info": {
   "codemirror_mode": {
    "name": "ipython",
    "version": 3
   },
   "file_extension": ".py",
   "mimetype": "text/x-python",
   "name": "python",
   "nbconvert_exporter": "python",
   "pygments_lexer": "ipython3",
   "version": "3.8.5"
  }
 },
 "nbformat": 4,
 "nbformat_minor": 4
}
