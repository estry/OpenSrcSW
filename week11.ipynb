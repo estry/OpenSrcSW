{
  "nbformat": 4,
  "nbformat_minor": 0,
  "metadata": {
    "colab": {
      "name": "week11.ipynb",
      "provenance": []
    },
    "kernelspec": {
      "name": "python3",
      "display_name": "Python 3"
    },
    "language_info": {
      "name": "python"
    }
  },
  "cells": [
    {
      "cell_type": "code",
      "metadata": {
        "colab": {
          "base_uri": "https://localhost:8080/"
        },
        "id": "BqqXHK787JJK",
        "outputId": "a1800727-4906-4d3f-a487-ba2ef06841d7"
      },
      "source": [
        "#실습 6\n",
        "# cp 명령어를 python으로 구현하시오.\n",
        "# cp file1 file2\n",
        "# file1의 내요을 fil12에 복사 (file2는 새로 생성)\n",
        "# userinput = input() -> \"cp file1, file2\"\n",
        "# cp file1.txt file2.txt\n",
        "def file_copy(arg1, arg2):\n",
        "    file1 = open(arg1, 'r')\n",
        "    file2 = open(arg2, 'w')\n",
        "    for line in file1:\n",
        "        file2.write(line)\n",
        "    file1.close()\n",
        "    file2.close()\n",
        "\n",
        "if __name__ == \"__main__\":\n",
        "    userinput = input()\n",
        "    input_list = userinput.split(' ')\n",
        "    if input_list[0] == 'cp':\n",
        "        file_copy(input_list[1], input_list[2])"
      ],
      "execution_count": null,
      "outputs": [
        {
          "output_type": "stream",
          "text": [
            "cp file1.txt file2.txt\n"
          ],
          "name": "stdout"
        }
      ]
    },
    {
      "cell_type": "code",
      "metadata": {
        "colab": {
          "base_uri": "https://localhost:8080/"
        },
        "id": "J1V0SuYw75uS",
        "outputId": "6a070b76-6bd2-442a-ffb7-3884ada0f350"
      },
      "source": [
        "# 실습 7\n",
        "# wc 명령어를 python으로 구현하시오\n",
        "# wc file1.txt\n",
        "# file1의 라인 수, 단어 수를 구하여 출력(단어는 공백으로 구분된 스트링이라 가정)\n",
        "# 실행은 커맨드 라인에서\n",
        "def wc(file1):\n",
        "    f = open(file1, 'r')\n",
        "    wc = 0\n",
        "    lc = 0\n",
        "    word_count = {}\n",
        "    for line in f:\n",
        "        lc = lc + 1\n",
        "        tokens = line.split(\" \")\n",
        "        wc += len(tokens)\n",
        "        for token in tokens:\n",
        "            if token not in word_count:\n",
        "                word_count[token] = 0\n",
        "            word_count[token] += 1\n",
        "    return wc, lc, word_count\n",
        "\n",
        "if __name__ == \"__main__\":\n",
        "    userinput = input()\n",
        "    input_list = userinput.split(' ')\n",
        "    if input_list[0] == 'wc':\n",
        "        wc, lc, word_count = wc(input_list[1])\n",
        "        print(wc, lc)\n",
        "        print(word_count)\n",
        "    "
      ],
      "execution_count": null,
      "outputs": [
        {
          "output_type": "stream",
          "text": [
            "wc file1.txt\n",
            "22 11\n",
            "{'line': 11, '1\\n': 1, '2\\n': 1, '3\\n': 1, '4\\n': 1, '5\\n': 1, '6\\n': 1, '7\\n': 1, '8\\n': 1, '9\\n': 1, '10\\n': 1, '11': 1}\n"
          ],
          "name": "stdout"
        }
      ]
    },
    {
      "cell_type": "code",
      "metadata": {
        "colab": {
          "base_uri": "https://localhost:8080/"
        },
        "id": "hTtfGB8A8Zrf",
        "outputId": "d17f5f80-a687-4d92-d731-137eda6281d8"
      },
      "source": [
        "# 실습 8\n",
        "# 사칙 연산 클래스 만들어 제출 12:50\n",
        "class Calc: \n",
        "    def sum(self, a, b):\n",
        "        result = a + b\n",
        "        print(\"{0:d} + {1:d} = {2:d} 입니다.\".format(a,b,result))\n",
        "        \n",
        "\n",
        "    def sub(self, a, b):\n",
        "        result = a - b\n",
        "        print(\"{0:d} - {1:d} = {2:d} 입니다.\".format(a,b,result))\n",
        "        \n",
        "\n",
        "    def mul(self, a, b):\n",
        "        result = a * b\n",
        "        print(\"{0:d} * {1:d} = {2:d} 입니다.\".format(a,b,result))\n",
        "        \n",
        "\n",
        "    def div(self, a, b):\n",
        "        if b != 0:\n",
        "            result = a / b\n",
        "            print(\"{0:d} / {1:d} = {2:0.2f} 입니다.\".format(a,b,result))\n",
        "        else:\n",
        "            print(\"0으로 나눌 수 없습니다.\")\n",
        "        \n",
        "\n",
        "\n",
        "calc = Calc()\n",
        "calc.sum(1,2)\n",
        "calc.sub(4,3)\n",
        "calc.mul(2,3)\n",
        "calc.div(8,2)"
      ],
      "execution_count": null,
      "outputs": [
        {
          "output_type": "stream",
          "text": [
            "1 + 2 = 3 입니다.\n",
            "4 - 3 = 1 입니다.\n",
            "2 * 3 = 6 입니다.\n",
            "8 / 2 = 4.00 입니다.\n"
          ],
          "name": "stdout"
        }
      ]
    },
    {
      "cell_type": "code",
      "metadata": {
        "colab": {
          "base_uri": "https://localhost:8080/"
        },
        "id": "uyfTjEWI_dOc",
        "outputId": "0ff22822-904b-4d33-9dc6-1d4be3b9386a"
      },
      "source": [
        "# 실습 9\n",
        "# 1 + 2 - 3 * 4 + 5\n",
        "class Stack:\n",
        "    stack = []\n",
        "    def __init__(self):\n",
        "        self.stack = []\n",
        "    def push(self, a):\n",
        "        self.stack.append(a)\n",
        "        return True\n",
        "    \n",
        "    def pop(self):\n",
        "        return self.stack.pop()\n",
        "    \n",
        "    def top(self):\n",
        "        return self.stack[-1]\n",
        "\n",
        "    def size(self):\n",
        "        return len(self.stack)\n",
        "    def all(self):\n",
        "        return self.stack\n",
        "\n",
        "def calc(a,b,op):\n",
        "    if op is '+':\n",
        "        return a + b\n",
        "    elif op is '-':\n",
        "        return a - b\n",
        "    elif op is '*':\n",
        "        return a * b\n",
        "    elif op is '/':\n",
        "        try:\n",
        "            a / b\n",
        "        except ZeroDivisionError as e:\n",
        "            print(e)\n",
        "\n",
        "op_list = ['+','-','*','-']\n",
        "nums = Stack()\n",
        "ops = Stack()\n",
        "userinput = input()\n",
        "inputs = userinput.split(' ')\n",
        "result = ''\n",
        "r = 0\n",
        "for token in inputs:\n",
        "    if token in op_list:\n",
        "        result += token\n",
        "        ops.push(token)\n",
        "    else:\n",
        "        result += token\n",
        "        nums.push(int(token))\n",
        "    if nums.size() == 2:\n",
        "        a = nums.pop()\n",
        "        b = nums.pop()\n",
        "        op = ops.pop()\n",
        "        r = calc(a,b,op)\n",
        "        # prinrt(r)\n",
        "        nums.push(r)\n",
        "\n",
        "result += '='\n",
        "k = nums.pop()\n",
        "result += str(k)\n",
        "print(result)\n",
        "\n",
        "    "
      ],
      "execution_count": 74,
      "outputs": [
        {
          "output_type": "stream",
          "text": [
            "1 + 2 - 3 * 4 + 5\n",
            "1+2-3*4+5=5\n"
          ],
          "name": "stdout"
        }
      ]
    },
    {
      "cell_type": "code",
      "metadata": {
        "id": "S-WO0pEjSL3W"
      },
      "source": [
        ""
      ],
      "execution_count": null,
      "outputs": []
    }
  ]
}